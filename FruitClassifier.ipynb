{
 "cells": [
  {
   "cell_type": "code",
   "execution_count": 8,
   "id": "b6956251-eb83-4483-aff8-5d150983fe5f",
   "metadata": {},
   "outputs": [],
   "source": [
    "import torch \n",
    "import torch.nn as nn\n",
    "import torch.nn.functional as F\n",
    "from torchvision import datasets\n",
    "import torchvision.transforms as transforms\n",
    "from torch.utils.data import DataLoader, random_split\n",
    "import os\n",
    "import tqdm\n",
    "from PIL import Image\n",
    "import matplotlib.pyplot as plt"
   ]
  },
  {
   "cell_type": "code",
   "execution_count": 2,
   "id": "d8d3554c-0b7d-490f-a1b8-4893167afc12",
   "metadata": {
    "scrolled": true
   },
   "outputs": [
    {
     "data": {
      "text/plain": [
       "['Onion Red 1',\n",
       " 'Huckleberry 1',\n",
       " 'Pomelo Sweetie 1',\n",
       " 'Potato White 1',\n",
       " 'Cucumber 3',\n",
       " 'Papaya 1',\n",
       " 'Cucumber Ripe 2',\n",
       " 'Pear 3',\n",
       " 'Eggplant long 1',\n",
       " 'Grapefruit Pink 1',\n",
       " 'Pomegranate 1',\n",
       " 'Zucchini 1',\n",
       " 'Apple Golden 2',\n",
       " 'Tomato Heart 1',\n",
       " 'Mulberry 1',\n",
       " 'Hazelnut 1',\n",
       " 'Pear Kaiser 1',\n",
       " 'Zucchini dark 1',\n",
       " 'Cactus fruit 1',\n",
       " 'Nut Forest 1',\n",
       " 'Apple Red Yellow 2',\n",
       " 'Kaki 1',\n",
       " 'Cherry Rainier 1',\n",
       " 'Apple Braeburn 1',\n",
       " 'Banana 1',\n",
       " 'Apple 6',\n",
       " 'Onion White 1',\n",
       " 'Apple Red Delicious 1',\n",
       " 'Cauliflower 1',\n",
       " 'Carambula 1',\n",
       " 'Cabbage white 1',\n",
       " 'Kiwi 1',\n",
       " 'Apple Golden 1',\n",
       " 'Avocado ripe 1',\n",
       " 'Grape White 2',\n",
       " 'Peach Flat 1',\n",
       " 'Orange 1',\n",
       " 'Tamarillo 1',\n",
       " 'Pepper Yellow 1',\n",
       " 'Pear Williams 1',\n",
       " 'Mango 1',\n",
       " 'Lemon 1',\n",
       " 'Tomato not Ripened 1',\n",
       " 'Redcurrant 1',\n",
       " 'Pear 2',\n",
       " 'Plum 3',\n",
       " 'Potato Sweet 1',\n",
       " 'Banana Red 1',\n",
       " 'Grape White 3',\n",
       " 'Pepper Red 1',\n",
       " 'Dates 1',\n",
       " 'Beetroot 1',\n",
       " 'Banana Lady Finger 1',\n",
       " 'Pear Stone 1',\n",
       " 'Lemon Meyer 1',\n",
       " 'Grape Blue 1',\n",
       " 'Tomato Yellow 1',\n",
       " 'Cherry 2',\n",
       " 'Apple Red Yellow 1',\n",
       " 'Avocado 1',\n",
       " 'Pear Red 1',\n",
       " 'Cherry Wax Red 1',\n",
       " 'Granadilla 1',\n",
       " 'Pear Forelle 1',\n",
       " 'Pear Abate 1',\n",
       " 'Melon Piel de Sapo 1',\n",
       " 'Mandarine 1',\n",
       " 'Corn 1',\n",
       " 'Apple Pink Lady 1',\n",
       " 'Ginger Root 1',\n",
       " 'Potato Red 1',\n",
       " 'Corn Husk 1',\n",
       " 'Blueberry 1',\n",
       " 'Pepino 1',\n",
       " 'Cucumber Ripe 1',\n",
       " 'Grapefruit White 1',\n",
       " 'Apple Granny Smith 1',\n",
       " 'Rambutan 1',\n",
       " 'Grape White 4',\n",
       " 'Cucumber 1',\n",
       " 'Nut Pecan 1',\n",
       " 'Tomato 1',\n",
       " 'Limes 1',\n",
       " 'Apple Golden 3',\n",
       " 'Salak 1',\n",
       " 'Pepper Orange 1',\n",
       " 'Tomato Maroon 1',\n",
       " 'Raspberry 1',\n",
       " 'Cantaloupe 2',\n",
       " 'Kohlrabi 1',\n",
       " 'Pear Monster 1',\n",
       " 'Guava 1',\n",
       " 'Plum 2',\n",
       " 'Watermelon 1',\n",
       " 'Apple Crimson Snow 1',\n",
       " 'Cocos 1',\n",
       " 'Apple hit 1',\n",
       " 'Strawberry 1',\n",
       " 'Nectarine Flat 1',\n",
       " 'Lychee 1',\n",
       " 'Apricot 1',\n",
       " 'Strawberry Wedge 1',\n",
       " 'Clementine 1',\n",
       " 'Carrot 1',\n",
       " 'Physalis 1',\n",
       " 'Physalis with Husk 1',\n",
       " 'Passion Fruit 1',\n",
       " 'Pitahaya Red 1',\n",
       " 'Pear 1',\n",
       " 'Potato Red Washed 1',\n",
       " 'Grape White 1',\n",
       " 'Cantaloupe 1',\n",
       " 'Cherry 1',\n",
       " 'Apple Red 3',\n",
       " 'Fig 1',\n",
       " 'Peach 1',\n",
       " 'Nectarine 1',\n",
       " 'Quince 1',\n",
       " 'Pepper Green 1',\n",
       " 'Apple Red 1',\n",
       " 'Chestnut 1',\n",
       " 'Tomato 3',\n",
       " 'Pineapple 1',\n",
       " 'Cherry Wax Yellow 1',\n",
       " 'Mango Red 1',\n",
       " 'Kumquats 1',\n",
       " 'Eggplant 1',\n",
       " 'Tangelo 1',\n",
       " 'Maracuja 1',\n",
       " 'Apple Red 2',\n",
       " 'Pineapple Mini 1',\n",
       " 'Tomato 4',\n",
       " 'Onion Red Peeled 1',\n",
       " 'Mangostan 1',\n",
       " 'Tomato 2',\n",
       " 'Cherry Wax Black 1',\n",
       " 'Plum 1',\n",
       " 'Grape Pink 1',\n",
       " 'Walnut 1',\n",
       " 'Tomato Cherry Red 1',\n",
       " 'Peach 2']"
      ]
     },
     "execution_count": 2,
     "metadata": {},
     "output_type": "execute_result"
    }
   ],
   "source": [
    "basedir = os.getcwd()\n",
    "dataset = \"/fruits-360_dataset_100x100\"\n",
    "train_path = basedir + dataset + \"/fruits-360/Training\"\n",
    "test_path = basedir + dataset + \"/fruits-360/Test\"\n",
    "fruits = os.listdir(train_path)\n",
    "fruits"
   ]
  },
  {
   "cell_type": "code",
   "execution_count": 3,
   "id": "d8c2e297-2cb0-4bc9-b4a8-295849c7c403",
   "metadata": {},
   "outputs": [
    {
     "data": {
      "text/plain": [
       "<matplotlib.image.AxesImage at 0x7f1a898c22f0>"
      ]
     },
     "execution_count": 3,
     "metadata": {},
     "output_type": "execute_result"
    },
    {
     "data": {
      "image/png": "[encoded data removed]",
      "text/plain": [
       "<Figure size 640x480 with 1 Axes>"
      ]
     },
     "metadata": {},
     "output_type": "display_data"
    }
   ],
   "source": [
    "im = Image.open(os.path.join(train_path,fruits[0],os.listdir(train_path + '/' + fruits[0])[0]))\n",
    "plt.imshow(im)"
   ]
  },
  {
   "cell_type": "code",
   "execution_count": 10,
   "id": "ebbeabc3-c15d-4b18-aee7-a08c01c078a4",
   "metadata": {},
   "outputs": [
    {
     "name": "stdout",
     "output_type": "stream",
     "text": [
      "70491\n"
     ]
    },
    {
     "data": {
      "text/plain": [
       "(60491, 10000)"
      ]
     },
     "execution_count": 10,
     "metadata": {},
     "output_type": "execute_result"
    }
   ],
   "source": [
    "#using dataloader \n",
    "trainfolder = datasets.ImageFolder(train_path, transform=transforms.ToTensor());\n",
    "testfolder = datasets.ImageFolder(test_path, transform=transforms.ToTensor());\n",
    "train_size = len(trainfolder)\n",
    "print(train_size)\n",
    "test_size = len(testfolder)\n",
    "val_size = 10000\n",
    "train_size -= val_size\n",
    "trainds,valds = random_split(trainfolder, [train_size, val_size])\n",
    "len(trainds), len(valds)"
   ]
  },
  {
   "cell_type": "code",
   "execution_count": 11,
   "id": "dd8290dc-47f1-4930-835e-8223965ca6df",
   "metadata": {},
   "outputs": [],
   "source": [
    "traindataloader = torch.utils.data.DataLoader(trainfolder, batch_size=128, shuffle=True)\n",
    "testdataloader = torch.utils.data.DataLoader(testfolder, batch_size=128, shuffle=True)"
   ]
  },
  {
   "cell_type": "code",
   "execution_count": 23,
   "id": "86abe5e5-a441-4225-b435-cc0a9d533274",
   "metadata": {},
   "outputs": [
    {
     "data": {
      "text/plain": [
       "(torch.Size([128, 3, 100, 100]), torch.Size([128]))"
      ]
     },
     "execution_count": 23,
     "metadata": {},
     "output_type": "execute_result"
    }
   ],
   "source": [
    "dataiter = iter(traindataloader)\n",
    "images, labels = next(dataiter)\n",
    "images.shape, labels.shape"
   ]
  },
  {
   "cell_type": "code",
   "execution_count": 5,
   "id": "9bea30ad-c5a4-4deb-b461-953c048753ac",
   "metadata": {},
   "outputs": [],
   "source": [
    "class ConvNet(nn.Module):\n",
    "    def __init__(self):\n",
    "        super().__init__()\n",
    "        self.conv1 = nn.Conv2d(3,6,5)\n",
    "        self.pool = nn.MaxPool2d(2,2)\n",
    "        self.conv2 = nn.Conv2d(6,16,5)\n",
    "        self.fc1 = nn.Linear(16 * 5 * 5, 300) \n",
    "        self.fc2 = nn.Linear(300, 141)\n",
    "    def forward(self,x):\n",
    "        c1 = F.relu(self.conv1(x)) \n",
    "        l2 = F.max_pool2d(c1, (2,2))\n",
    "        c2 = F.relu(self.conv2(l2)) \n",
    "        l4 = F.max_pool2d(c2,(2,2))\n",
    "        l4 = torch.flatten(l4,1) \n",
    "        l5 = F.relu(self.fc1(l4))\n",
    "        out = F.relu(self.fc2(l5))\n",
    "        return out\n",
    "model = ConvNet()"
   ]
  },
  {
   "cell_type": "code",
   "execution_count": 3,
   "id": "ccdcd55d-56a6-414d-b7b6-2471b409a176",
   "metadata": {},
   "outputs": [
    {
     "data": {
      "text/plain": [
       "70491"
      ]
     },
     "execution_count": 3,
     "metadata": {},
     "output_type": "execute_result"
    }
   ],
   "source": [
    "#add all data in filename\n",
    "# def load_data(path):\n",
    "#     folders = [f for f in os.listdir(path)]\n",
    "#     images = []\n",
    "#     imglabels = []\n",
    "#     labels = [] \n",
    "#     yes = True\n",
    "#     for f in folders:\n",
    "#         labels.append(f)\n",
    "#         folder_path = os.path.join(path, f)\n",
    "#         cur_images = [(folder_path + \"/\" + img) for img in os.listdir(folder_path)]\n",
    "#         imglabels.extend(len(cur_images) * [f])\n",
    "#         images.extend(cur_images)\n",
    "#     return np.array(images), np.array(imglabels), labels\n",
    "\n",
    "# X_train, Y_train, labels = load_data(train_path)\n",
    "# X_test, Y_test, _ = load_data(test_path)\n",
    "# len(Y_train)"
   ]
  },
  {
   "cell_type": "code",
   "execution_count": 4,
   "id": "61b9d6ad-be2d-4d7b-9961-7c9720b30c28",
   "metadata": {},
   "outputs": [
    {
     "name": "stdout",
     "output_type": "stream",
     "text": [
      "[1. 0. 0. 0. 0. 0. 0. 0. 0. 0. 0. 0. 0. 0. 0. 0. 0. 0. 0. 0. 0. 0. 0. 0.\n",
      " 0. 0. 0. 0. 0. 0. 0. 0. 0. 0. 0. 0. 0. 0. 0. 0. 0. 0. 0. 0. 0. 0. 0. 0.\n",
      " 0. 0. 0. 0. 0. 0. 0. 0. 0. 0. 0. 0. 0. 0. 0. 0. 0. 0. 0. 0. 0. 0. 0. 0.\n",
      " 0. 0. 0. 0. 0. 0. 0. 0. 0. 0. 0. 0. 0. 0. 0. 0. 0. 0. 0. 0. 0. 0. 0. 0.\n",
      " 0. 0. 0. 0. 0. 0. 0. 0. 0. 0. 0. 0. 0. 0. 0. 0. 0. 0. 0. 0. 0. 0. 0. 0.\n",
      " 0. 0. 0. 0. 0. 0. 0. 0. 0. 0. 0. 0. 0. 0. 0. 0. 0. 0. 0. 0. 0.]\n"
     ]
    }
   ],
   "source": [
    "#process Y's into number and prob distribution for loss function\n",
    "# Y_train_temp = np.zeros((len(Y_train),len(labels)))\n",
    "# Y_test_temp = np.zeros((len(Y_test),len(labels)))\n",
    "# for cnt, label in enumerate(labels):\n",
    "#     for i in range(len(Y_train)):\n",
    "#         if Y_train[i] == label:\n",
    "#             Y_train_temp[i][cnt] = 1 \n",
    "#     for i in range(len(Y_test)):\n",
    "#         if Y_test[i] == label:\n",
    "#             Y_test_temp[i][cnt] = 1\n",
    "# Y_train = Y_train_temp\n",
    "# Y_test = Y_test_temp\n",
    "# print(Y_train[0])"
   ]
  },
  {
   "cell_type": "code",
   "execution_count": 5,
   "id": "b77ffea9-1fbf-43dd-95b0-7ebd3397be43",
   "metadata": {},
   "outputs": [
    {
     "data": {
      "text/plain": [
       "array([0., 0., 0., 0., 0., 0., 0., 0., 0., 0., 0., 0., 0., 0., 0., 0., 0.,\n",
       "       0., 0., 0., 0., 0., 0., 0., 0., 0., 0., 0., 0., 0., 0., 0., 0., 0.,\n",
       "       0., 0., 0., 0., 0., 0., 0., 0., 0., 0., 0., 0., 0., 0., 0., 0., 0.,\n",
       "       0., 0., 0., 0., 0., 0., 0., 0., 0., 0., 0., 0., 0., 0., 0., 0., 0.,\n",
       "       0., 0., 0., 0., 0., 0., 0., 0., 0., 0., 0., 0., 0., 0., 1., 0., 0.,\n",
       "       0., 0., 0., 0., 0., 0., 0., 0., 0., 0., 0., 0., 0., 0., 0., 0., 0.,\n",
       "       0., 0., 0., 0., 0., 0., 0., 0., 0., 0., 0., 0., 0., 0., 0., 0., 0.,\n",
       "       0., 0., 0., 0., 0., 0., 0., 0., 0., 0., 0., 0., 0., 0., 0., 0., 0.,\n",
       "       0., 0., 0., 0., 0.])"
      ]
     },
     "execution_count": 5,
     "metadata": {},
     "output_type": "execute_result"
    }
   ],
   "source": [
    "#shuffle\n",
    "# trainp = np.random.permutation(len(X_train))\n",
    "# X_train = X_train[trainp]\n",
    "# Y_train = Y_train[trainp]\n",
    "# testp = np.random.permutation(len(X_test))\n",
    "# X_test = X_test[testp]\n",
    "# Y_test = Y_test[testp]\n",
    "# Y_train[0]"
   ]
  },
  {
   "cell_type": "code",
   "execution_count": 3,
   "id": "319abd27-21ac-41cb-8b2d-54ba31ab8485",
   "metadata": {},
   "outputs": [],
   "source": [
    "# transform = transforms.Compose([\n",
    "#     transforms.Resize((128,128)),\n",
    "#     transforms.ToTensor(),\n",
    "# ])"
   ]
  },
  {
   "cell_type": "code",
   "execution_count": null,
   "id": "03622f86-7eb8-46e3-80f2-a2ad2c4d30a1",
   "metadata": {},
   "outputs": [],
   "source": [
    "#preparing dataset attempt #2\n",
    "# def prepare_dataset(base_dir, transform=None):\n",
    "#     dataset = []\n",
    "#     labels = sorted(os.listdir(base_dir))\n",
    "#     for cnt, label_name in enumerate(labels):\n",
    "#         folder_path = os.path.join(base_dir, label_name)\n",
    "#         if os.path.isdir(folder_path):\n",
    "#             for img in os.listdir(folder_path):\n",
    "#                 img_path = os.path.join(folder_path, img)\n",
    "\n",
    "#                 with Image.open(img_path) as curimg:\n",
    "#                     curimg = curimg.convert(\"RGB\")\n",
    "#                     if transform:\n",
    "#                         curimg = transform(curimg)\n",
    "#                 dataset.append((curimg, label_name))\n",
    "# train_data = prepare_dataset(train_path, transform=transform)"
   ]
  }
 ],
 "metadata": {
  "kernelspec": {
   "display_name": "Python 3 (ipykernel)",
   "language": "python",
   "name": "python3"
  },
  "language_info": {
   "codemirror_mode": {
    "name": "ipython",
    "version": 3
   },
   "file_extension": ".py",
   "mimetype": "text/x-python",
   "name": "python",
   "nbconvert_exporter": "python",
   "pygments_lexer": "ipython3",
   "version": "3.10.12"
  }
 },
 "nbformat": 4,
 "nbformat_minor": 5
}
