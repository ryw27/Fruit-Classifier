{
 "cells": [
  {
   "cell_type": "code",
   "execution_count": 1,
   "id": "b6956251-eb83-4483-aff8-5d150983fe5f",
   "metadata": {},
   "outputs": [],
   "source": [
    "import torch \n",
    "import torch.nn as nn\n",
    "import torch.nn.functional as F\n",
    "from torchvision import datasets\n",
    "import torchvision.transforms as transforms\n",
    "from torch.utils.data import DataLoader, random_split\n",
    "import os\n",
    "import tqdm\n",
    "from PIL import Image\n",
    "import matplotlib.pyplot as plt"
   ]
  },
  {
   "cell_type": "code",
   "execution_count": 2,
   "id": "d8d3554c-0b7d-490f-a1b8-4893167afc12",
   "metadata": {
    "scrolled": true
   },
   "outputs": [
    {
     "data": {
      "text/plain": [
       "['Onion Red 1',\n",
       " 'Huckleberry 1',\n",
       " 'Pomelo Sweetie 1',\n",
       " 'Potato White 1',\n",
       " 'Cucumber 3',\n",
       " 'Papaya 1',\n",
       " 'Cucumber Ripe 2',\n",
       " 'Pear 3',\n",
       " 'Eggplant long 1',\n",
       " 'Grapefruit Pink 1',\n",
       " 'Pomegranate 1',\n",
       " 'Zucchini 1',\n",
       " 'Apple Golden 2',\n",
       " 'Tomato Heart 1',\n",
       " 'Mulberry 1',\n",
       " 'Hazelnut 1',\n",
       " 'Pear Kaiser 1',\n",
       " 'Zucchini dark 1',\n",
       " 'Cactus fruit 1',\n",
       " 'Nut Forest 1',\n",
       " 'Apple Red Yellow 2',\n",
       " 'Kaki 1',\n",
       " 'Cherry Rainier 1',\n",
       " 'Apple Braeburn 1',\n",
       " 'Banana 1',\n",
       " 'Apple 6',\n",
       " 'Onion White 1',\n",
       " 'Apple Red Delicious 1',\n",
       " 'Cauliflower 1',\n",
       " 'Carambula 1',\n",
       " 'Cabbage white 1',\n",
       " 'Kiwi 1',\n",
       " 'Apple Golden 1',\n",
       " 'Avocado ripe 1',\n",
       " 'Grape White 2',\n",
       " 'Peach Flat 1',\n",
       " 'Orange 1',\n",
       " 'Tamarillo 1',\n",
       " 'Pepper Yellow 1',\n",
       " 'Pear Williams 1',\n",
       " 'Mango 1',\n",
       " 'Lemon 1',\n",
       " 'Tomato not Ripened 1',\n",
       " 'Redcurrant 1',\n",
       " 'Pear 2',\n",
       " 'Plum 3',\n",
       " 'Potato Sweet 1',\n",
       " 'Banana Red 1',\n",
       " 'Grape White 3',\n",
       " 'Pepper Red 1',\n",
       " 'Dates 1',\n",
       " 'Beetroot 1',\n",
       " 'Banana Lady Finger 1',\n",
       " 'Pear Stone 1',\n",
       " 'Lemon Meyer 1',\n",
       " 'Grape Blue 1',\n",
       " 'Tomato Yellow 1',\n",
       " 'Cherry 2',\n",
       " 'Apple Red Yellow 1',\n",
       " 'Avocado 1',\n",
       " 'Pear Red 1',\n",
       " 'Cherry Wax Red 1',\n",
       " 'Granadilla 1',\n",
       " 'Pear Forelle 1',\n",
       " 'Pear Abate 1',\n",
       " 'Melon Piel de Sapo 1',\n",
       " 'Mandarine 1',\n",
       " 'Corn 1',\n",
       " 'Apple Pink Lady 1',\n",
       " 'Ginger Root 1',\n",
       " 'Potato Red 1',\n",
       " 'Corn Husk 1',\n",
       " 'Blueberry 1',\n",
       " 'Pepino 1',\n",
       " 'Cucumber Ripe 1',\n",
       " 'Grapefruit White 1',\n",
       " 'Apple Granny Smith 1',\n",
       " 'Rambutan 1',\n",
       " 'Grape White 4',\n",
       " 'Cucumber 1',\n",
       " 'Nut Pecan 1',\n",
       " 'Tomato 1',\n",
       " 'Limes 1',\n",
       " 'Apple Golden 3',\n",
       " 'Salak 1',\n",
       " 'Pepper Orange 1',\n",
       " 'Tomato Maroon 1',\n",
       " 'Raspberry 1',\n",
       " 'Cantaloupe 2',\n",
       " 'Kohlrabi 1',\n",
       " 'Pear Monster 1',\n",
       " 'Guava 1',\n",
       " 'Plum 2',\n",
       " 'Watermelon 1',\n",
       " 'Apple Crimson Snow 1',\n",
       " 'Cocos 1',\n",
       " 'Apple hit 1',\n",
       " 'Strawberry 1',\n",
       " 'Nectarine Flat 1',\n",
       " 'Lychee 1',\n",
       " 'Apricot 1',\n",
       " 'Strawberry Wedge 1',\n",
       " 'Clementine 1',\n",
       " 'Carrot 1',\n",
       " 'Physalis 1',\n",
       " 'Physalis with Husk 1',\n",
       " 'Passion Fruit 1',\n",
       " 'Pitahaya Red 1',\n",
       " 'Pear 1',\n",
       " 'Potato Red Washed 1',\n",
       " 'Grape White 1',\n",
       " 'Cantaloupe 1',\n",
       " 'Cherry 1',\n",
       " 'Apple Red 3',\n",
       " 'Fig 1',\n",
       " 'Peach 1',\n",
       " 'Nectarine 1',\n",
       " 'Quince 1',\n",
       " 'Pepper Green 1',\n",
       " 'Apple Red 1',\n",
       " 'Chestnut 1',\n",
       " 'Tomato 3',\n",
       " 'Pineapple 1',\n",
       " 'Cherry Wax Yellow 1',\n",
       " 'Mango Red 1',\n",
       " 'Kumquats 1',\n",
       " 'Eggplant 1',\n",
       " 'Tangelo 1',\n",
       " 'Maracuja 1',\n",
       " 'Apple Red 2',\n",
       " 'Pineapple Mini 1',\n",
       " 'Tomato 4',\n",
       " 'Onion Red Peeled 1',\n",
       " 'Mangostan 1',\n",
       " 'Tomato 2',\n",
       " 'Cherry Wax Black 1',\n",
       " 'Plum 1',\n",
       " 'Grape Pink 1',\n",
       " 'Walnut 1',\n",
       " 'Tomato Cherry Red 1',\n",
       " 'Peach 2']"
      ]
     },
     "execution_count": 2,
     "metadata": {},
     "output_type": "execute_result"
    }
   ],
   "source": [
    "basedir = os.getcwd()\n",
    "dataset = \"/fruits-360_dataset_100x100\"\n",
    "train_path = basedir + dataset + \"/fruits-360/Training\"\n",
    "test_path = basedir + dataset + \"/fruits-360/Test\"\n",
    "fruits = os.listdir(train_path)\n",
    "fruits"
   ]
  },
  {
   "cell_type": "code",
   "execution_count": 3,
   "id": "d8c2e297-2cb0-4bc9-b4a8-295849c7c403",
   "metadata": {},
   "outputs": [
    {
     "data": {
      "text/plain": [
       "<matplotlib.image.AxesImage at 0x7f1e28f9a2c0>"
      ]
     },
     "execution_count": 3,
     "metadata": {},
     "output_type": "execute_result"
    },
    {
     "data": {
      "image/png": "[encoded data removed]",
      "text/plain": [
       "<Figure size 640x480 with 1 Axes>"
      ]
     },
     "metadata": {},
     "output_type": "display_data"
    }
   ],
   "source": [
    "im = Image.open(os.path.join(train_path,fruits[0],os.listdir(train_path + '/' + fruits[0])[0]))\n",
    "plt.imshow(im)"
   ]
  },
  {
   "cell_type": "code",
   "execution_count": 4,
   "id": "ebbeabc3-c15d-4b18-aee7-a08c01c078a4",
   "metadata": {},
   "outputs": [
    {
     "name": "stdout",
     "output_type": "stream",
     "text": [
      "70491\n"
     ]
    },
    {
     "data": {
      "text/plain": [
       "(60491, 10000, 23619)"
      ]
     },
     "execution_count": 4,
     "metadata": {},
     "output_type": "execute_result"
    }
   ],
   "source": [
    "#using dataloader \n",
    "trainfolder = datasets.ImageFolder(train_path, transform=transforms.ToTensor());\n",
    "testfolder = datasets.ImageFolder(test_path, transform=transforms.ToTensor());\n",
    "train_size = len(trainfolder)\n",
    "print(train_size)\n",
    "test_size = len(testfolder)\n",
    "val_size = 10000\n",
    "train_size -= val_size\n",
    "trainds,valds = random_split(trainfolder, [train_size, val_size])\n",
    "len(trainds), len(valds), len(testfolder)"
   ]
  },
  {
   "cell_type": "code",
   "execution_count": 5,
   "id": "dd8290dc-47f1-4930-835e-8223965ca6df",
   "metadata": {},
   "outputs": [],
   "source": [
    "traindataloader = torch.utils.data.DataLoader(trainds, batch_size=128, shuffle=True)\n",
    "valdataloader = torch.utils.data.DataLoader(valds, batch_size=128, shuffle=True)\n",
    "testdataloader = torch.utils.data.DataLoader(testfolder, batch_size=128, shuffle=True)"
   ]
  },
  {
   "cell_type": "code",
   "execution_count": 6,
   "id": "86abe5e5-a441-4225-b435-cc0a9d533274",
   "metadata": {},
   "outputs": [
    {
     "data": {
      "text/plain": [
       "(torch.Size([128, 3, 100, 100]), torch.Size([128]), 60544, 10112, 23680)"
      ]
     },
     "execution_count": 6,
     "metadata": {},
     "output_type": "execute_result"
    }
   ],
   "source": [
    "dataiter = iter(traindataloader)\n",
    "images, labels = next(dataiter)\n",
    "images.shape, labels.shape, len(traindataloader) * 128, len(valdataloader) * 128, len(testdataloader) * 128"
   ]
  },
  {
   "cell_type": "code",
   "execution_count": 7,
   "id": "9bea30ad-c5a4-4deb-b461-953c048753ac",
   "metadata": {},
   "outputs": [],
   "source": [
    "class ConvNet(nn.Module):\n",
    "    def __init__(self):\n",
    "        super().__init__()\n",
    "        self.conv1 = nn.Conv2d(3,16,3,padding=1)\n",
    "        self.pool = nn.MaxPool2d(2,2)\n",
    "        self.conv2 = nn.Conv2d(16,32,3,padding=1)\n",
    "        self.conv3 = nn.Conv2d(32,32,3,padding=1)\n",
    "        self.fc1 = nn.Linear(32 * 12 * 12, 1024) \n",
    "        self.fc2 = nn.Linear(1024, 512)\n",
    "        self.fc3 = nn.Linear(512, 256)\n",
    "        self.fc4 = nn.Linear(256, 141)\n",
    "    def forward(self,x):\n",
    "        c1 = self.pool(F.relu(self.conv1(x)))\n",
    "        c2 = self.pool(F.relu(self.conv2(c1)))\n",
    "        c3 = self.pool(F.relu(self.conv3(c2)))\n",
    "        l4 = torch.flatten(c3,1)\n",
    "        l5 = F.relu(self.fc1(l4))\n",
    "        l6 = F.relu(self.fc2(l5))\n",
    "        l7 = F.relu(self.fc3(l6))\n",
    "        out = self.fc4(l7)\n",
    "        return out"
   ]
  },
  {
   "cell_type": "code",
   "execution_count": 8,
   "id": "1d1e7965-fb6c-4fb6-8aab-67f9965257ed",
   "metadata": {},
   "outputs": [
    {
     "name": "stdout",
     "output_type": "stream",
     "text": [
      "Epoch 0, Batch 0, Loss: 4.9459, accuracy : 0.0\n",
      "Epoch 0, Batch 10, Loss: 4.9360, accuracy : 0.0078125\n",
      "Epoch 0, Batch 20, Loss: 4.9281, accuracy : 0.015625\n",
      "Epoch 0, Batch 30, Loss: 4.7204, accuracy : 0.0234375\n",
      "Epoch 0, Batch 40, Loss: 4.6065, accuracy : 0.015625\n",
      "Epoch 0, Batch 50, Loss: 4.4299, accuracy : 0.015625\n",
      "Epoch 0, Batch 60, Loss: 3.7319, accuracy : 0.1171875\n",
      "Epoch 0, Batch 70, Loss: 3.3804, accuracy : 0.1328125\n",
      "Epoch 0, Batch 80, Loss: 3.0819, accuracy : 0.09375\n",
      "Epoch 0, Batch 90, Loss: 2.5900, accuracy : 0.25\n",
      "Epoch 0, Batch 100, Loss: 2.3960, accuracy : 0.3203125\n",
      "Epoch 0, Batch 110, Loss: 2.1603, accuracy : 0.296875\n",
      "Epoch 0, Batch 120, Loss: 1.8590, accuracy : 0.390625\n",
      "Epoch 0, Batch 130, Loss: 1.6622, accuracy : 0.484375\n",
      "Epoch 0, Batch 140, Loss: 1.8442, accuracy : 0.4375\n",
      "Epoch 0, Batch 150, Loss: 1.6387, accuracy : 0.453125\n",
      "Epoch 0, Batch 160, Loss: 1.3001, accuracy : 0.59375\n",
      "Epoch 0, Batch 170, Loss: 1.3631, accuracy : 0.515625\n",
      "Epoch 0, Batch 180, Loss: 1.2335, accuracy : 0.546875\n",
      "Epoch 0, Batch 190, Loss: 1.2010, accuracy : 0.609375\n",
      "Epoch 0, Batch 200, Loss: 1.1485, accuracy : 0.640625\n",
      "Epoch 0, Batch 210, Loss: 0.9650, accuracy : 0.7265625\n",
      "Epoch 0, Batch 220, Loss: 1.1201, accuracy : 0.6640625\n",
      "Epoch 0, Batch 230, Loss: 1.0157, accuracy : 0.6484375\n",
      "Epoch 0, Batch 240, Loss: 0.7788, accuracy : 0.7421875\n",
      "Epoch 0, Batch 250, Loss: 0.9161, accuracy : 0.703125\n",
      "Epoch 0, Batch 260, Loss: 0.8259, accuracy : 0.71875\n",
      "Epoch 0, Batch 270, Loss: 0.7411, accuracy : 0.7265625\n",
      "Epoch 0, Batch 280, Loss: 0.9851, accuracy : 0.6640625\n",
      "Epoch 0, Batch 290, Loss: 0.8134, accuracy : 0.734375\n",
      "Epoch 0, Batch 300, Loss: 0.8068, accuracy : 0.7265625\n",
      "Epoch 0, Batch 310, Loss: 0.7584, accuracy : 0.7578125\n",
      "Epoch 0, Batch 320, Loss: 0.6302, accuracy : 0.7734375\n",
      "Epoch 0, Batch 330, Loss: 0.7115, accuracy : 0.75\n",
      "Epoch 0, Batch 340, Loss: 0.5402, accuracy : 0.8359375\n",
      "Epoch 0, Batch 350, Loss: 0.7271, accuracy : 0.7578125\n",
      "Epoch 0, Batch 360, Loss: 0.8361, accuracy : 0.6796875\n",
      "Epoch 0, Batch 370, Loss: 0.5634, accuracy : 0.8203125\n",
      "Epoch 0, Batch 380, Loss: 0.6057, accuracy : 0.8046875\n",
      "Epoch 0, Batch 390, Loss: 0.4180, accuracy : 0.8828125\n",
      "Epoch 0, Batch 400, Loss: 0.3271, accuracy : 0.875\n",
      "Epoch 0, Batch 410, Loss: 0.6175, accuracy : 0.8125\n",
      "Epoch 0, Batch 420, Loss: 0.5197, accuracy : 0.8515625\n",
      "Epoch 0, Batch 430, Loss: 0.3542, accuracy : 0.8828125\n",
      "Epoch 0, Batch 440, Loss: 0.6369, accuracy : 0.7734375\n",
      "Epoch 0, Batch 450, Loss: 0.4746, accuracy : 0.84375\n",
      "Epoch 0, Batch 460, Loss: 0.4011, accuracy : 0.875\n",
      "Epoch 0, Batch 470, Loss: 0.4262, accuracy : 0.875\n",
      "Epoch 1, Batch 0, Loss: 0.4212, accuracy : 0.875\n",
      "Epoch 1, Batch 10, Loss: 0.3750, accuracy : 0.8515625\n",
      "Epoch 1, Batch 20, Loss: 0.2863, accuracy : 0.8984375\n",
      "Epoch 1, Batch 30, Loss: 0.4754, accuracy : 0.859375\n",
      "Epoch 1, Batch 40, Loss: 0.3250, accuracy : 0.890625\n",
      "Epoch 1, Batch 50, Loss: 0.3026, accuracy : 0.8984375\n",
      "Epoch 1, Batch 60, Loss: 0.2697, accuracy : 0.8828125\n",
      "Epoch 1, Batch 70, Loss: 0.2728, accuracy : 0.921875\n",
      "Epoch 1, Batch 80, Loss: 0.2423, accuracy : 0.9453125\n",
      "Epoch 1, Batch 90, Loss: 0.1952, accuracy : 0.9453125\n",
      "Epoch 1, Batch 100, Loss: 0.1759, accuracy : 0.9296875\n",
      "Epoch 1, Batch 110, Loss: 0.1842, accuracy : 0.953125\n",
      "Epoch 1, Batch 120, Loss: 0.3320, accuracy : 0.84375\n",
      "Epoch 1, Batch 130, Loss: 0.1987, accuracy : 0.9140625\n",
      "Epoch 1, Batch 140, Loss: 0.3326, accuracy : 0.890625\n",
      "Epoch 1, Batch 150, Loss: 0.2303, accuracy : 0.8984375\n",
      "Epoch 1, Batch 160, Loss: 0.1999, accuracy : 0.9375\n",
      "Epoch 1, Batch 170, Loss: 0.0956, accuracy : 0.9609375\n",
      "Epoch 1, Batch 180, Loss: 0.1675, accuracy : 0.9296875\n",
      "Epoch 1, Batch 190, Loss: 0.3008, accuracy : 0.8984375\n",
      "Epoch 1, Batch 200, Loss: 0.3276, accuracy : 0.875\n",
      "Epoch 1, Batch 210, Loss: 0.1967, accuracy : 0.921875\n",
      "Epoch 1, Batch 220, Loss: 0.1593, accuracy : 0.9453125\n",
      "Epoch 1, Batch 230, Loss: 0.2408, accuracy : 0.9140625\n",
      "Epoch 1, Batch 240, Loss: 0.3107, accuracy : 0.90625\n",
      "Epoch 1, Batch 250, Loss: 0.2685, accuracy : 0.8984375\n",
      "Epoch 1, Batch 260, Loss: 0.1911, accuracy : 0.9375\n",
      "Epoch 1, Batch 270, Loss: 0.1409, accuracy : 0.96875\n",
      "Epoch 1, Batch 280, Loss: 0.1565, accuracy : 0.953125\n",
      "Epoch 1, Batch 290, Loss: 0.1833, accuracy : 0.953125\n",
      "Epoch 1, Batch 300, Loss: 0.1185, accuracy : 0.9609375\n",
      "Epoch 1, Batch 310, Loss: 0.0849, accuracy : 0.96875\n",
      "Epoch 1, Batch 320, Loss: 0.1338, accuracy : 0.953125\n",
      "Epoch 1, Batch 330, Loss: 0.1284, accuracy : 0.9375\n",
      "Epoch 1, Batch 340, Loss: 0.0615, accuracy : 0.9921875\n",
      "Epoch 1, Batch 350, Loss: 0.1182, accuracy : 0.9609375\n",
      "Epoch 1, Batch 360, Loss: 0.0898, accuracy : 0.9765625\n",
      "Epoch 1, Batch 370, Loss: 0.0918, accuracy : 0.96875\n",
      "Epoch 1, Batch 380, Loss: 0.2527, accuracy : 0.9140625\n",
      "Epoch 1, Batch 390, Loss: 0.3754, accuracy : 0.8828125\n",
      "Epoch 1, Batch 400, Loss: 0.2516, accuracy : 0.9296875\n",
      "Epoch 1, Batch 410, Loss: 0.1672, accuracy : 0.953125\n",
      "Epoch 1, Batch 420, Loss: 0.2432, accuracy : 0.921875\n",
      "Epoch 1, Batch 430, Loss: 0.1224, accuracy : 0.953125\n",
      "Epoch 1, Batch 440, Loss: 0.1525, accuracy : 0.9375\n",
      "Epoch 1, Batch 450, Loss: 0.1466, accuracy : 0.9453125\n",
      "Epoch 1, Batch 460, Loss: 0.0552, accuracy : 0.984375\n",
      "Epoch 1, Batch 470, Loss: 0.2095, accuracy : 0.921875\n",
      "Training complete\n"
     ]
    }
   ],
   "source": [
    "from torch.optim.lr_scheduler import StepLR\n",
    "model = ConvNet()\n",
    "criterion = nn.CrossEntropyLoss()\n",
    "optimizer = torch.optim.Adam(model.parameters(), lr=0.001)\n",
    "losses = []\n",
    "accuracies = []\n",
    "num_epochs = 2 \n",
    "for epoch in range(num_epochs):\n",
    "    model.train()\n",
    "    for batch_idx, (images, labels) in enumerate(traindataloader):\n",
    "        optimizer.zero_grad()\n",
    "        outputs = model(images)\n",
    "        cat = torch.argmax(outputs, dim=1) \n",
    "        accuracy = (cat == labels).float().mean() #check how many are right\n",
    "        loss = criterion(outputs, labels)\n",
    "        loss.backward()\n",
    "        optimizer.step()\n",
    "\n",
    "        if batch_idx % 10 == 0:\n",
    "            print(f'Epoch {epoch}, Batch {batch_idx}, Loss: {loss.item():.4f}, accuracy : {accuracy}')\n",
    "            accuracies.append(accuracy)\n",
    "            losses.append(loss)\n",
    "\n",
    "print('Training complete')\n"
   ]
  },
  {
   "cell_type": "code",
   "execution_count": 15,
   "id": "9269e8d5-acc6-4073-b3f3-d633ae49eafc",
   "metadata": {},
   "outputs": [
    {
     "data": {
      "image/png": "[encoded data removed]",
      "text/plain": [
       "<Figure size 640x480 with 1 Axes>"
      ]
     },
     "metadata": {},
     "output_type": "display_data"
    }
   ],
   "source": [
    "import numpy \n",
    "plt.plot(accuracies)\n",
    "plt.plot(numpy.vstack([t.detach().numpy() for t in losses]))\n",
    "plt.ylim(-3,3)\n",
    "plt.show()"
   ]
  },
  {
   "cell_type": "code",
   "execution_count": 28,
   "id": "afe57236-591b-490b-ba03-8f3b4617aaa0",
   "metadata": {},
   "outputs": [
    {
     "name": "stdout",
     "output_type": "stream",
     "text": [
      "tensor(0.9662)\n"
     ]
    }
   ],
   "source": [
    "#validation\n",
    "model.eval()\n",
    "correct = 0\n",
    "total = 0\n",
    "with torch.no_grad():\n",
    "    for images, labels in valdataloader:\n",
    "        outputs = model(images)\n",
    "        cat = torch.argmax(outputs, dim=1) \n",
    "        #accuracy = (cat == labels).float().mean() #check how many are right\n",
    "        total += len(labels) \n",
    "        correct += (cat == labels).float().sum()\n",
    "print(correct/total)"
   ]
  },
  {
   "cell_type": "code",
   "execution_count": null,
   "id": "0bd745f4-df4d-4e56-bd3c-d808fd29a67c",
   "metadata": {},
   "outputs": [],
   "source": [
    "#testing\n",
    "model.eval()  # Set the model to evaluation mode\n",
    "total_loss = 0\n",
    "correct = 0\n",
    "total = 0\n",
    "\n",
    "with torch.no_grad():  # Disable gradient computation\n",
    "    for images, labels in testdataloader:\n",
    "        outputs = model(images)\n",
    "        loss = criterion(outputs, labels)\n",
    "        \n",
    "        total_loss += loss.item()\n",
    "        total += labels.size(0)\n",
    "        cat = torch.argmax(outputs,dim=1)\n",
    "        correct += (cat == labels).float().sum()\n",
    "\n",
    "avg_loss = total_loss / len(testdataloader)\n",
    "accuracy = 100. * correct / total\n",
    "\n",
    "print(f'Test Loss: {avg_loss:.4f}, Accuracy: {accuracy:.2f}%')\n",
    "\n",
    "avg_loss, accuracy"
   ]
  },
  {
   "cell_type": "code",
   "execution_count": 47,
   "id": "07e805fb-f939-43cc-b183-f4c8ea14f4e4",
   "metadata": {},
   "outputs": [
    {
     "data": {
      "text/plain": [
       "0.742358136177063"
      ]
     },
     "execution_count": 47,
     "metadata": {},
     "output_type": "execute_result"
    }
   ],
   "source": [
    "total\n",
    "correct\n",
    "total_loss/len(testdataloader)"
   ]
  },
  {
   "cell_type": "code",
   "execution_count": 3,
   "id": "ccdcd55d-56a6-414d-b7b6-2471b409a176",
   "metadata": {},
   "outputs": [
    {
     "data": {
      "text/plain": [
       "70491"
      ]
     },
     "execution_count": 3,
     "metadata": {},
     "output_type": "execute_result"
    }
   ],
   "source": [
    "#add all data in filename\n",
    "# def load_data(path):\n",
    "#     folders = [f for f in os.listdir(path)]\n",
    "#     images = []\n",
    "#     imglabels = []\n",
    "#     labels = [] \n",
    "#     yes = True\n",
    "#     for f in folders:\n",
    "#         labels.append(f)\n",
    "#         folder_path = os.path.join(path, f)\n",
    "#         cur_images = [(folder_path + \"/\" + img) for img in os.listdir(folder_path)]\n",
    "#         imglabels.extend(len(cur_images) * [f])\n",
    "#         images.extend(cur_images)\n",
    "#     return np.array(images), np.array(imglabels), labels\n",
    "\n",
    "# X_train, Y_train, labels = load_data(train_path)\n",
    "# X_test, Y_test, _ = load_data(test_path)\n",
    "# len(Y_train)"
   ]
  },
  {
   "cell_type": "code",
   "execution_count": 4,
   "id": "61b9d6ad-be2d-4d7b-9961-7c9720b30c28",
   "metadata": {},
   "outputs": [
    {
     "name": "stdout",
     "output_type": "stream",
     "text": [
      "[1. 0. 0. 0. 0. 0. 0. 0. 0. 0. 0. 0. 0. 0. 0. 0. 0. 0. 0. 0. 0. 0. 0. 0.\n",
      " 0. 0. 0. 0. 0. 0. 0. 0. 0. 0. 0. 0. 0. 0. 0. 0. 0. 0. 0. 0. 0. 0. 0. 0.\n",
      " 0. 0. 0. 0. 0. 0. 0. 0. 0. 0. 0. 0. 0. 0. 0. 0. 0. 0. 0. 0. 0. 0. 0. 0.\n",
      " 0. 0. 0. 0. 0. 0. 0. 0. 0. 0. 0. 0. 0. 0. 0. 0. 0. 0. 0. 0. 0. 0. 0. 0.\n",
      " 0. 0. 0. 0. 0. 0. 0. 0. 0. 0. 0. 0. 0. 0. 0. 0. 0. 0. 0. 0. 0. 0. 0. 0.\n",
      " 0. 0. 0. 0. 0. 0. 0. 0. 0. 0. 0. 0. 0. 0. 0. 0. 0. 0. 0. 0. 0.]\n"
     ]
    }
   ],
   "source": [
    "#process Y's into number and prob distribution for loss function\n",
    "# Y_train_temp = np.zeros((len(Y_train),len(labels)))\n",
    "# Y_test_temp = np.zeros((len(Y_test),len(labels)))\n",
    "# for cnt, label in enumerate(labels):\n",
    "#     for i in range(len(Y_train)):\n",
    "#         if Y_train[i] == label:\n",
    "#             Y_train_temp[i][cnt] = 1 \n",
    "#     for i in range(len(Y_test)):\n",
    "#         if Y_test[i] == label:\n",
    "#             Y_test_temp[i][cnt] = 1\n",
    "# Y_train = Y_train_temp\n",
    "# Y_test = Y_test_temp\n",
    "# print(Y_train[0])"
   ]
  },
  {
   "cell_type": "code",
   "execution_count": 5,
   "id": "b77ffea9-1fbf-43dd-95b0-7ebd3397be43",
   "metadata": {},
   "outputs": [
    {
     "data": {
      "text/plain": [
       "array([0., 0., 0., 0., 0., 0., 0., 0., 0., 0., 0., 0., 0., 0., 0., 0., 0.,\n",
       "       0., 0., 0., 0., 0., 0., 0., 0., 0., 0., 0., 0., 0., 0., 0., 0., 0.,\n",
       "       0., 0., 0., 0., 0., 0., 0., 0., 0., 0., 0., 0., 0., 0., 0., 0., 0.,\n",
       "       0., 0., 0., 0., 0., 0., 0., 0., 0., 0., 0., 0., 0., 0., 0., 0., 0.,\n",
       "       0., 0., 0., 0., 0., 0., 0., 0., 0., 0., 0., 0., 0., 0., 1., 0., 0.,\n",
       "       0., 0., 0., 0., 0., 0., 0., 0., 0., 0., 0., 0., 0., 0., 0., 0., 0.,\n",
       "       0., 0., 0., 0., 0., 0., 0., 0., 0., 0., 0., 0., 0., 0., 0., 0., 0.,\n",
       "       0., 0., 0., 0., 0., 0., 0., 0., 0., 0., 0., 0., 0., 0., 0., 0., 0.,\n",
       "       0., 0., 0., 0., 0.])"
      ]
     },
     "execution_count": 5,
     "metadata": {},
     "output_type": "execute_result"
    }
   ],
   "source": [
    "#shuffle\n",
    "# trainp = np.random.permutation(len(X_train))\n",
    "# X_train = X_train[trainp]\n",
    "# Y_train = Y_train[trainp]\n",
    "# testp = np.random.permutation(len(X_test))\n",
    "# X_test = X_test[testp]\n",
    "# Y_test = Y_test[testp]\n",
    "# Y_train[0]"
   ]
  },
  {
   "cell_type": "code",
   "execution_count": 3,
   "id": "319abd27-21ac-41cb-8b2d-54ba31ab8485",
   "metadata": {},
   "outputs": [],
   "source": [
    "# transform = transforms.Compose([\n",
    "#     transforms.Resize((128,128)),\n",
    "#     transforms.ToTensor(),\n",
    "# ])"
   ]
  },
  {
   "cell_type": "code",
   "execution_count": null,
   "id": "03622f86-7eb8-46e3-80f2-a2ad2c4d30a1",
   "metadata": {},
   "outputs": [],
   "source": [
    "#preparing dataset attempt #2\n",
    "# def prepare_dataset(base_dir, transform=None):\n",
    "#     dataset = []\n",
    "#     labels = sorted(os.listdir(base_dir))\n",
    "#     for cnt, label_name in enumerate(labels):\n",
    "#         folder_path = os.path.join(base_dir, label_name)\n",
    "#         if os.path.isdir(folder_path):\n",
    "#             for img in os.listdir(folder_path):\n",
    "#                 img_path = os.path.join(folder_path, img)\n",
    "\n",
    "#                 with Image.open(img_path) as curimg:\n",
    "#                     curimg = curimg.convert(\"RGB\")\n",
    "#                     if transform:\n",
    "#                         curimg = transform(curimg)\n",
    "#                 dataset.append((curimg, label_name))\n",
    "# train_data = prepare_dataset(train_path, transform=transform)"
   ]
  }
 ],
 "metadata": {
  "kernelspec": {
   "display_name": "Python 3 (ipykernel)",
   "language": "python",
   "name": "python3"
  },
  "language_info": {
   "codemirror_mode": {
    "name": "ipython",
    "version": 3
   },
   "file_extension": ".py",
   "mimetype": "text/x-python",
   "name": "python",
   "nbconvert_exporter": "python",
   "pygments_lexer": "ipython3",
   "version": "3.10.12"
  }
 },
 "nbformat": 4,
 "nbformat_minor": 5
}
